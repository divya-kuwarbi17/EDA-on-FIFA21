{
 "cells": [
  {
   "cell_type": "markdown",
   "metadata": {},
   "source": [
    "# EDA on Fifa Dataset "
   ]
  },
  {
   "cell_type": "markdown",
   "metadata": {},
   "source": [
    "Importing all the necessary packages for the EDA."
   ]
  },
  {
   "cell_type": "code",
   "execution_count": 2,
   "metadata": {},
   "outputs": [
    {
     "name": "stderr",
     "output_type": "stream",
     "text": [
      "C:\\Users\\Admin\\Anaconda3\\lib\\site-packages\\statsmodels\\tools\\_testing.py:19: FutureWarning: pandas.util.testing is deprecated. Use the functions in the public API at pandas.testing instead.\n",
      "  import pandas.util.testing as tm\n"
     ]
    }
   ],
   "source": [
    "import pandas as pd \n",
    "import numpy as np \n",
    "import seaborn as sns\n",
    "import matplotlib.pyplot as plt\n",
    "%matplotlib inline"
   ]
  },
  {
   "cell_type": "markdown",
   "metadata": {},
   "source": [
    "Importing the dataset\n",
    "I used the the dataset available on Kaggle which contains 17,000+ players featuring in FIFA18, each with more than 70 attributes. It is scraped from the website SoFiFa."
   ]
  },
  {
   "cell_type": "code",
   "execution_count": 3,
   "metadata": {},
   "outputs": [
    {
     "name": "stderr",
     "output_type": "stream",
     "text": [
      "C:\\Users\\Admin\\Anaconda3\\lib\\site-packages\\IPython\\core\\interactiveshell.py:3326: DtypeWarning: Columns (76) have mixed types.Specify dtype option on import or set low_memory=False.\n",
      "  exec(code_obj, self.user_global_ns, self.user_ns)\n"
     ]
    }
   ],
   "source": [
    "df = pd.read_csv(\"fifa21_raw_data.csv\")"
   ]
  },
  {
   "cell_type": "markdown",
   "metadata": {},
   "source": [
    "Checking the Shape of the data.This function helps to  know our data better, it tells us how many no of rows and columns does our dataset contains."
   ]
  },
  {
   "cell_type": "code",
   "execution_count": 4,
   "metadata": {},
   "outputs": [
    {
     "data": {
      "text/plain": [
       "(18979, 77)"
      ]
     },
     "execution_count": 4,
     "metadata": {},
     "output_type": "execute_result"
    }
   ],
   "source": [
    "df.shape"
   ]
  },
  {
   "cell_type": "markdown",
   "metadata": {},
   "source": [
    "Since, We know that our dataset contains 77 columns.so we need to know the names of the columns, on the basis of which we can say which column is usefull for us and which we need to elimminate."
   ]
  },
  {
   "cell_type": "code",
   "execution_count": 5,
   "metadata": {
    "scrolled": true
   },
   "outputs": [
    {
     "data": {
      "text/plain": [
       "Index(['photoUrl', 'LongName', 'playerUrl', 'Nationality', 'Positions', 'Name',\n",
       "       'Age', '↓OVA', 'POT', 'Team & Contract', 'ID', 'Height', 'Weight',\n",
       "       'foot', 'BOV', 'BP', 'Growth', 'Joined', 'Loan Date End', 'Value',\n",
       "       'Wage', 'Release Clause', 'Attacking', 'Crossing', 'Finishing',\n",
       "       'Heading Accuracy', 'Short Passing', 'Volleys', 'Skill', 'Dribbling',\n",
       "       'Curve', 'FK Accuracy', 'Long Passing', 'Ball Control', 'Movement',\n",
       "       'Acceleration', 'Sprint Speed', 'Agility', 'Reactions', 'Balance',\n",
       "       'Power', 'Shot Power', 'Jumping', 'Stamina', 'Strength', 'Long Shots',\n",
       "       'Mentality', 'Aggression', 'Interceptions', 'Positioning', 'Vision',\n",
       "       'Penalties', 'Composure', 'Defending', 'Marking', 'Standing Tackle',\n",
       "       'Sliding Tackle', 'Goalkeeping', 'GK Diving', 'GK Handling',\n",
       "       'GK Kicking', 'GK Positioning', 'GK Reflexes', 'Total Stats',\n",
       "       'Base Stats', 'W/F', 'SM', 'A/W', 'D/W', 'IR', 'PAC', 'SHO', 'PAS',\n",
       "       'DRI', 'DEF', 'PHY', 'Hits'],\n",
       "      dtype='object')"
      ]
     },
     "execution_count": 5,
     "metadata": {},
     "output_type": "execute_result"
    }
   ],
   "source": [
    "df.columns"
   ]
  },
  {
   "cell_type": "code",
   "execution_count": 6,
   "metadata": {},
   "outputs": [],
   "source": [
    "idf = df[[\"Name\",\"Age\",\"Nationality\",\"Positions\",\"↓OVA\",\"Team & Contract\",\"Height\",\"Jumping\",\n",
    "          \"Attacking\",\"Stamina\",\"Goalkeeping\",\"Value\",\"Wage\",\"Heading Accuracy\",\"Ball Control\"]]"
   ]
  },
  {
   "cell_type": "code",
   "execution_count": 7,
   "metadata": {},
   "outputs": [
    {
     "data": {
      "text/html": [
       "<div>\n",
       "<style scoped>\n",
       "    .dataframe tbody tr th:only-of-type {\n",
       "        vertical-align: middle;\n",
       "    }\n",
       "\n",
       "    .dataframe tbody tr th {\n",
       "        vertical-align: top;\n",
       "    }\n",
       "\n",
       "    .dataframe thead th {\n",
       "        text-align: right;\n",
       "    }\n",
       "</style>\n",
       "<table border=\"1\" class=\"dataframe\">\n",
       "  <thead>\n",
       "    <tr style=\"text-align: right;\">\n",
       "      <th></th>\n",
       "      <th>Name</th>\n",
       "      <th>Age</th>\n",
       "      <th>Nationality</th>\n",
       "      <th>Positions</th>\n",
       "      <th>↓OVA</th>\n",
       "      <th>Team &amp; Contract</th>\n",
       "      <th>Height</th>\n",
       "      <th>Jumping</th>\n",
       "      <th>Attacking</th>\n",
       "      <th>Stamina</th>\n",
       "      <th>Goalkeeping</th>\n",
       "      <th>Value</th>\n",
       "      <th>Wage</th>\n",
       "      <th>Heading Accuracy</th>\n",
       "      <th>Ball Control</th>\n",
       "    </tr>\n",
       "  </thead>\n",
       "  <tbody>\n",
       "    <tr>\n",
       "      <th>0</th>\n",
       "      <td>L. Messi</td>\n",
       "      <td>33</td>\n",
       "      <td>Argentina</td>\n",
       "      <td>RW ST CF</td>\n",
       "      <td>93</td>\n",
       "      <td>\\n\\n\\n\\nFC Barcelona\\n2004 ~ 2021\\n\\n</td>\n",
       "      <td>5'7\"</td>\n",
       "      <td>68</td>\n",
       "      <td>429</td>\n",
       "      <td>72</td>\n",
       "      <td>54</td>\n",
       "      <td>€67.5M</td>\n",
       "      <td>€560K</td>\n",
       "      <td>70</td>\n",
       "      <td>96</td>\n",
       "    </tr>\n",
       "    <tr>\n",
       "      <th>1</th>\n",
       "      <td>Cristiano Ronaldo</td>\n",
       "      <td>35</td>\n",
       "      <td>Portugal</td>\n",
       "      <td>ST LW</td>\n",
       "      <td>92</td>\n",
       "      <td>\\n\\n\\n\\nJuventus\\n2018 ~ 2022\\n\\n</td>\n",
       "      <td>6'2\"</td>\n",
       "      <td>95</td>\n",
       "      <td>437</td>\n",
       "      <td>84</td>\n",
       "      <td>58</td>\n",
       "      <td>€46M</td>\n",
       "      <td>€220K</td>\n",
       "      <td>90</td>\n",
       "      <td>92</td>\n",
       "    </tr>\n",
       "    <tr>\n",
       "      <th>2</th>\n",
       "      <td>J. Oblak</td>\n",
       "      <td>27</td>\n",
       "      <td>Slovenia</td>\n",
       "      <td>GK</td>\n",
       "      <td>91</td>\n",
       "      <td>\\n\\n\\n\\nAtlético Madrid\\n2014 ~ 2023\\n\\n</td>\n",
       "      <td>6'2\"</td>\n",
       "      <td>78</td>\n",
       "      <td>95</td>\n",
       "      <td>41</td>\n",
       "      <td>437</td>\n",
       "      <td>€75M</td>\n",
       "      <td>€125K</td>\n",
       "      <td>15</td>\n",
       "      <td>30</td>\n",
       "    </tr>\n",
       "    <tr>\n",
       "      <th>3</th>\n",
       "      <td>K. De Bruyne</td>\n",
       "      <td>29</td>\n",
       "      <td>Belgium</td>\n",
       "      <td>CAM CM</td>\n",
       "      <td>91</td>\n",
       "      <td>\\n\\n\\n\\nManchester City\\n2015 ~ 2023\\n\\n</td>\n",
       "      <td>5'11\"</td>\n",
       "      <td>63</td>\n",
       "      <td>407</td>\n",
       "      <td>89</td>\n",
       "      <td>56</td>\n",
       "      <td>€87M</td>\n",
       "      <td>€370K</td>\n",
       "      <td>55</td>\n",
       "      <td>92</td>\n",
       "    </tr>\n",
       "    <tr>\n",
       "      <th>4</th>\n",
       "      <td>Neymar Jr</td>\n",
       "      <td>28</td>\n",
       "      <td>Brazil</td>\n",
       "      <td>LW CAM</td>\n",
       "      <td>91</td>\n",
       "      <td>\\n\\n\\n\\nParis Saint-Germain\\n2017 ~ 2022\\n\\n</td>\n",
       "      <td>5'9\"</td>\n",
       "      <td>62</td>\n",
       "      <td>408</td>\n",
       "      <td>81</td>\n",
       "      <td>59</td>\n",
       "      <td>€90M</td>\n",
       "      <td>€270K</td>\n",
       "      <td>62</td>\n",
       "      <td>95</td>\n",
       "    </tr>\n",
       "    <tr>\n",
       "      <th>...</th>\n",
       "      <td>...</td>\n",
       "      <td>...</td>\n",
       "      <td>...</td>\n",
       "      <td>...</td>\n",
       "      <td>...</td>\n",
       "      <td>...</td>\n",
       "      <td>...</td>\n",
       "      <td>...</td>\n",
       "      <td>...</td>\n",
       "      <td>...</td>\n",
       "      <td>...</td>\n",
       "      <td>...</td>\n",
       "      <td>...</td>\n",
       "      <td>...</td>\n",
       "      <td>...</td>\n",
       "    </tr>\n",
       "    <tr>\n",
       "      <th>18974</th>\n",
       "      <td>Zhang Mengxuan</td>\n",
       "      <td>21</td>\n",
       "      <td>China PR</td>\n",
       "      <td>CB</td>\n",
       "      <td>47</td>\n",
       "      <td>\\n\\n\\n\\nChongqing Dangdai Lifan FC SWM Team\\n2...</td>\n",
       "      <td>5'10\"</td>\n",
       "      <td>65</td>\n",
       "      <td>141</td>\n",
       "      <td>55</td>\n",
       "      <td>53</td>\n",
       "      <td>€35K</td>\n",
       "      <td>€1K</td>\n",
       "      <td>45</td>\n",
       "      <td>24</td>\n",
       "    </tr>\n",
       "    <tr>\n",
       "      <th>18975</th>\n",
       "      <td>V. Da Silva</td>\n",
       "      <td>17</td>\n",
       "      <td>England</td>\n",
       "      <td>ST</td>\n",
       "      <td>47</td>\n",
       "      <td>\\n\\n\\n\\nOldham Athletic\\n2020 ~ 2021\\n\\n</td>\n",
       "      <td>5'7\"</td>\n",
       "      <td>50</td>\n",
       "      <td>202</td>\n",
       "      <td>55</td>\n",
       "      <td>48</td>\n",
       "      <td>€60K</td>\n",
       "      <td>€500</td>\n",
       "      <td>36</td>\n",
       "      <td>44</td>\n",
       "    </tr>\n",
       "    <tr>\n",
       "      <th>18976</th>\n",
       "      <td>Xia Ao</td>\n",
       "      <td>21</td>\n",
       "      <td>China PR</td>\n",
       "      <td>CB</td>\n",
       "      <td>47</td>\n",
       "      <td>\\n\\n\\n\\nWuhan Zall\\n2018 ~ 2022\\n\\n</td>\n",
       "      <td>5'10\"</td>\n",
       "      <td>57</td>\n",
       "      <td>145</td>\n",
       "      <td>54</td>\n",
       "      <td>45</td>\n",
       "      <td>€40K</td>\n",
       "      <td>€1K</td>\n",
       "      <td>43</td>\n",
       "      <td>42</td>\n",
       "    </tr>\n",
       "    <tr>\n",
       "      <th>18977</th>\n",
       "      <td>B. Hough</td>\n",
       "      <td>17</td>\n",
       "      <td>England</td>\n",
       "      <td>CM</td>\n",
       "      <td>47</td>\n",
       "      <td>\\n\\n\\n\\nOldham Athletic\\n2020 ~ 2021\\n\\n</td>\n",
       "      <td>5'9\"</td>\n",
       "      <td>58</td>\n",
       "      <td>211</td>\n",
       "      <td>43</td>\n",
       "      <td>45</td>\n",
       "      <td>€60K</td>\n",
       "      <td>€500</td>\n",
       "      <td>40</td>\n",
       "      <td>48</td>\n",
       "    </tr>\n",
       "    <tr>\n",
       "      <th>18978</th>\n",
       "      <td>M. Flores</td>\n",
       "      <td>19</td>\n",
       "      <td>Bolivia</td>\n",
       "      <td>CDM</td>\n",
       "      <td>47</td>\n",
       "      <td>\\n\\n\\n\\nClub Bolívar\\n2020 ~ 2024\\n\\n</td>\n",
       "      <td>5'9\"</td>\n",
       "      <td>55</td>\n",
       "      <td>191</td>\n",
       "      <td>47</td>\n",
       "      <td>56</td>\n",
       "      <td>€60K</td>\n",
       "      <td>€500</td>\n",
       "      <td>48</td>\n",
       "      <td>43</td>\n",
       "    </tr>\n",
       "  </tbody>\n",
       "</table>\n",
       "<p>18979 rows × 15 columns</p>\n",
       "</div>"
      ],
      "text/plain": [
       "                    Name  Age Nationality Positions  ↓OVA  \\\n",
       "0               L. Messi   33   Argentina  RW ST CF    93   \n",
       "1      Cristiano Ronaldo   35    Portugal     ST LW    92   \n",
       "2               J. Oblak   27    Slovenia        GK    91   \n",
       "3           K. De Bruyne   29     Belgium    CAM CM    91   \n",
       "4              Neymar Jr   28      Brazil    LW CAM    91   \n",
       "...                  ...  ...         ...       ...   ...   \n",
       "18974     Zhang Mengxuan   21    China PR        CB    47   \n",
       "18975        V. Da Silva   17     England        ST    47   \n",
       "18976             Xia Ao   21    China PR        CB    47   \n",
       "18977           B. Hough   17     England        CM    47   \n",
       "18978          M. Flores   19     Bolivia       CDM    47   \n",
       "\n",
       "                                         Team & Contract Height  Jumping  \\\n",
       "0                  \\n\\n\\n\\nFC Barcelona\\n2004 ~ 2021\\n\\n   5'7\"       68   \n",
       "1                      \\n\\n\\n\\nJuventus\\n2018 ~ 2022\\n\\n   6'2\"       95   \n",
       "2               \\n\\n\\n\\nAtlético Madrid\\n2014 ~ 2023\\n\\n   6'2\"       78   \n",
       "3               \\n\\n\\n\\nManchester City\\n2015 ~ 2023\\n\\n  5'11\"       63   \n",
       "4           \\n\\n\\n\\nParis Saint-Germain\\n2017 ~ 2022\\n\\n   5'9\"       62   \n",
       "...                                                  ...    ...      ...   \n",
       "18974  \\n\\n\\n\\nChongqing Dangdai Lifan FC SWM Team\\n2...  5'10\"       65   \n",
       "18975           \\n\\n\\n\\nOldham Athletic\\n2020 ~ 2021\\n\\n   5'7\"       50   \n",
       "18976                \\n\\n\\n\\nWuhan Zall\\n2018 ~ 2022\\n\\n  5'10\"       57   \n",
       "18977           \\n\\n\\n\\nOldham Athletic\\n2020 ~ 2021\\n\\n   5'9\"       58   \n",
       "18978              \\n\\n\\n\\nClub Bolívar\\n2020 ~ 2024\\n\\n   5'9\"       55   \n",
       "\n",
       "       Attacking  Stamina  Goalkeeping   Value   Wage  Heading Accuracy  \\\n",
       "0            429       72           54  €67.5M  €560K                70   \n",
       "1            437       84           58    €46M  €220K                90   \n",
       "2             95       41          437    €75M  €125K                15   \n",
       "3            407       89           56    €87M  €370K                55   \n",
       "4            408       81           59    €90M  €270K                62   \n",
       "...          ...      ...          ...     ...    ...               ...   \n",
       "18974        141       55           53    €35K    €1K                45   \n",
       "18975        202       55           48    €60K   €500                36   \n",
       "18976        145       54           45    €40K    €1K                43   \n",
       "18977        211       43           45    €60K   €500                40   \n",
       "18978        191       47           56    €60K   €500                48   \n",
       "\n",
       "       Ball Control  \n",
       "0                96  \n",
       "1                92  \n",
       "2                30  \n",
       "3                92  \n",
       "4                95  \n",
       "...             ...  \n",
       "18974            24  \n",
       "18975            44  \n",
       "18976            42  \n",
       "18977            48  \n",
       "18978            43  \n",
       "\n",
       "[18979 rows x 15 columns]"
      ]
     },
     "execution_count": 7,
     "metadata": {},
     "output_type": "execute_result"
    }
   ],
   "source": [
    "idf"
   ]
  },
  {
   "cell_type": "code",
   "execution_count": 8,
   "metadata": {},
   "outputs": [
    {
     "data": {
      "text/plain": [
       "Name                object\n",
       "Age                  int64\n",
       "Nationality         object\n",
       "Positions           object\n",
       "↓OVA                 int64\n",
       "Team & Contract     object\n",
       "Height              object\n",
       "Jumping              int64\n",
       "Attacking            int64\n",
       "Stamina              int64\n",
       "Goalkeeping          int64\n",
       "Value               object\n",
       "Wage                object\n",
       "Heading Accuracy     int64\n",
       "Ball Control         int64\n",
       "dtype: object"
      ]
     },
     "execution_count": 8,
     "metadata": {},
     "output_type": "execute_result"
    }
   ],
   "source": [
    "idf.dtypes"
   ]
  },
  {
   "cell_type": "code",
   "execution_count": 9,
   "metadata": {},
   "outputs": [
    {
     "data": {
      "text/plain": [
       "Name                0\n",
       "Age                 0\n",
       "Nationality         0\n",
       "Positions           0\n",
       "↓OVA                0\n",
       "Team & Contract     0\n",
       "Height              0\n",
       "Jumping             0\n",
       "Attacking           0\n",
       "Stamina             0\n",
       "Goalkeeping         0\n",
       "Value               0\n",
       "Wage                0\n",
       "Heading Accuracy    0\n",
       "Ball Control        0\n",
       "dtype: int64"
      ]
     },
     "execution_count": 9,
     "metadata": {},
     "output_type": "execute_result"
    }
   ],
   "source": [
    "idf.isnull().sum()"
   ]
  },
  {
   "cell_type": "code",
   "execution_count": 10,
   "metadata": {
    "scrolled": true
   },
   "outputs": [
    {
     "name": "stderr",
     "output_type": "stream",
     "text": [
      "C:\\Users\\Admin\\Anaconda3\\lib\\site-packages\\pandas\\core\\frame.py:3607: SettingWithCopyWarning: \n",
      "A value is trying to be set on a copy of a slice from a DataFrame.\n",
      "Try using .loc[row_indexer,col_indexer] = value instead\n",
      "\n",
      "See the caveats in the documentation: https://pandas.pydata.org/pandas-docs/stable/user_guide/indexing.html#returning-a-view-versus-a-copy\n",
      "  self._set_item(key, value)\n"
     ]
    }
   ],
   "source": [
    "#Creating the Prefered positions columns\n",
    "idf['Prefered Positions'] = idf.Positions.str.split().str.get(0)"
   ]
  },
  {
   "cell_type": "code",
   "execution_count": 11,
   "metadata": {},
   "outputs": [],
   "source": [
    "#Processing the postions columns\n",
    "player_position = {\"Gkkk\":\"GK\",\n",
    "                   \"LWB\":\"DEF\",\"LB\":\"DEF\",\"CB\":\"DEF\",\"RB\":\"DEF\",\"RWB\":\"DEF\",\n",
    "                   \"LW\":\"MID\",\"LM\":\"MID\",\"CDM\":\"MID\",\"CM\":\"MID\",\"CAM\":\"MID\",\"RW\":\"MID\",\"RW\":\"MID\",\n",
    "                   \"CF\":\"FWD\",\"ST\":\"FWD\"\n",
    "                  } \n",
    "idf['Position'] = idf[\"Prefered Positions\"].replace(player_position, regex=True)"
   ]
  },
  {
   "cell_type": "code",
   "execution_count": 12,
   "metadata": {},
   "outputs": [],
   "source": [
    "#Replacing ↓OVA\t to Overall\n",
    "idf = idf.rename(columns = {\"↓OVA\" :\"Overall\"})"
   ]
  },
  {
   "cell_type": "code",
   "execution_count": 13,
   "metadata": {},
   "outputs": [
    {
     "data": {
      "text/plain": [
       "0                    \\n\\n\\n\\nFC Barcelona\\n2004 ~ 2021\\n\\n\n",
       "1                        \\n\\n\\n\\nJuventus\\n2018 ~ 2022\\n\\n\n",
       "2                 \\n\\n\\n\\nAtlético Madrid\\n2014 ~ 2023\\n\\n\n",
       "3                 \\n\\n\\n\\nManchester City\\n2015 ~ 2023\\n\\n\n",
       "4             \\n\\n\\n\\nParis Saint-Germain\\n2017 ~ 2022\\n\\n\n",
       "                               ...                        \n",
       "18974    \\n\\n\\n\\nChongqing Dangdai Lifan FC SWM Team\\n2...\n",
       "18975             \\n\\n\\n\\nOldham Athletic\\n2020 ~ 2021\\n\\n\n",
       "18976                  \\n\\n\\n\\nWuhan Zall\\n2018 ~ 2022\\n\\n\n",
       "18977             \\n\\n\\n\\nOldham Athletic\\n2020 ~ 2021\\n\\n\n",
       "18978                \\n\\n\\n\\nClub Bolívar\\n2020 ~ 2024\\n\\n\n",
       "Name: Team & Contract, Length: 18979, dtype: object"
      ]
     },
     "execution_count": 13,
     "metadata": {},
     "output_type": "execute_result"
    }
   ],
   "source": [
    "#Preprocessing the Team & Contract column and renaming it to Club\n",
    "idf[\"Team & Contract\"]"
   ]
  },
  {
   "cell_type": "code",
   "execution_count": 14,
   "metadata": {},
   "outputs": [
    {
     "name": "stderr",
     "output_type": "stream",
     "text": [
      "C:\\Users\\Admin\\Anaconda3\\lib\\site-packages\\ipykernel_launcher.py:3: FutureWarning: The default value of regex will change from True to False in a future version.\n",
      "  This is separate from the ipykernel package so we can avoid doing imports until\n"
     ]
    }
   ],
   "source": [
    "idf['Club'] = idf['Team & Contract'].str.rstrip('\\n')\n",
    "idf['Club'] = idf['Club'].str.lstrip('\\n')\n",
    "idf['Club'] = idf['Club'].str.replace('\\d+','')\n",
    "idf['Club'] = idf['Club'].str.strip('\\n ~')"
   ]
  },
  {
   "cell_type": "markdown",
   "metadata": {},
   "source": [
    "#Preprocessing the Height column\n",
    "    as the columns contains the data in numbers and symbol format, which could be easily understandable by humans, \n",
    "    but not by the program. So we need to remone those symbols and also convert the values into cm from inches."
   ]
  },
  {
   "cell_type": "code",
   "execution_count": 15,
   "metadata": {},
   "outputs": [],
   "source": [
    "idf['temp1'] = idf[\"Height\"].str.get(0)\n",
    "idf['temp2'] = idf[\"Height\"].str.get(2) + idf[\"Height\"].str.get(3)\n",
    "\n",
    "\n",
    "idf['temp2'] = idf['temp2'].str.strip('\"')\n",
    "\n",
    "idf['temp1'] = idf['temp1'].astype(float)\n",
    "idf['temp1'] = idf[\"temp1\"] * 30.48\n",
    "\n",
    "idf[\"temp2\"] = idf[\"temp2\"].astype(float)\n",
    "idf['temp2'] = idf[\"temp2\"] * 2.54\n",
    "\n",
    "\n",
    "idf[\"Height\"] = idf[\"temp1\"] + idf[\"temp2\"]"
   ]
  },
  {
   "cell_type": "markdown",
   "metadata": {},
   "source": [
    "#### Preprocessing the Value column"
   ]
  },
  {
   "cell_type": "markdown",
   "metadata": {},
   "source": [
    "As from the data we can see, the value column contain symbol and also some players are valued in Million while some are valued in thousands. So we need to scale the value in one for all the players. We'll be valuing al players in M."
   ]
  },
  {
   "cell_type": "code",
   "execution_count": 16,
   "metadata": {},
   "outputs": [],
   "source": [
    "def Val_split(x):\n",
    "    try:\n",
    "        if 'M' in x :\n",
    "            return float(x.split(\"M\")[0][1:])\n",
    "        elif 'K' in x :\n",
    "            return float(x.split(\"K\")[0][1:])/1000\n",
    "    except :\n",
    "        return 0\n",
    "    \n",
    "idf[\"Value\"] = idf[\"Value\"].apply(lambda x : Val_split(x))\n",
    "idf =idf.rename(columns ={\"Value\": \"Value in M\"})"
   ]
  },
  {
   "cell_type": "markdown",
   "metadata": {},
   "source": [
    "####  Preprocessing the Wage column"
   ]
  },
  {
   "cell_type": "markdown",
   "metadata": {},
   "source": [
    "similar as the value column"
   ]
  },
  {
   "cell_type": "code",
   "execution_count": 17,
   "metadata": {},
   "outputs": [],
   "source": [
    "def Wage_split(x):\n",
    "    try:\n",
    "        if 'K' in x :\n",
    "            return float(x.split(\"K\")[0][1:])\n",
    "        elif \"\" in x:\n",
    "            return 0.5\n",
    "    except :\n",
    "        return 0\n",
    "    \n",
    "idf[\"Wage in K\"] = idf[\"Wage\"].apply(lambda x : Wage_split(x))"
   ]
  },
  {
   "cell_type": "code",
   "execution_count": 18,
   "metadata": {
    "scrolled": true
   },
   "outputs": [
    {
     "data": {
      "text/plain": [
       "0        560.0\n",
       "1        220.0\n",
       "2        125.0\n",
       "3        370.0\n",
       "4        270.0\n",
       "         ...  \n",
       "18974      1.0\n",
       "18975      0.5\n",
       "18976      1.0\n",
       "18977      0.5\n",
       "18978      0.5\n",
       "Name: Wage in K, Length: 18979, dtype: float64"
      ]
     },
     "execution_count": 18,
     "metadata": {},
     "output_type": "execute_result"
    }
   ],
   "source": [
    "idf[\"Wage in K\"]"
   ]
  },
  {
   "cell_type": "code",
   "execution_count": 19,
   "metadata": {},
   "outputs": [
    {
     "data": {
      "text/html": [
       "<div>\n",
       "<style scoped>\n",
       "    .dataframe tbody tr th:only-of-type {\n",
       "        vertical-align: middle;\n",
       "    }\n",
       "\n",
       "    .dataframe tbody tr th {\n",
       "        vertical-align: top;\n",
       "    }\n",
       "\n",
       "    .dataframe thead th {\n",
       "        text-align: right;\n",
       "    }\n",
       "</style>\n",
       "<table border=\"1\" class=\"dataframe\">\n",
       "  <thead>\n",
       "    <tr style=\"text-align: right;\">\n",
       "      <th></th>\n",
       "      <th>Name</th>\n",
       "      <th>Age</th>\n",
       "      <th>Nationality</th>\n",
       "      <th>Positions</th>\n",
       "      <th>Overall</th>\n",
       "      <th>Team &amp; Contract</th>\n",
       "      <th>Height</th>\n",
       "      <th>Jumping</th>\n",
       "      <th>Attacking</th>\n",
       "      <th>Stamina</th>\n",
       "      <th>...</th>\n",
       "      <th>Value in M</th>\n",
       "      <th>Wage</th>\n",
       "      <th>Heading Accuracy</th>\n",
       "      <th>Ball Control</th>\n",
       "      <th>Prefered Positions</th>\n",
       "      <th>Position</th>\n",
       "      <th>Club</th>\n",
       "      <th>temp1</th>\n",
       "      <th>temp2</th>\n",
       "      <th>Wage in K</th>\n",
       "    </tr>\n",
       "  </thead>\n",
       "  <tbody>\n",
       "    <tr>\n",
       "      <th>0</th>\n",
       "      <td>L. Messi</td>\n",
       "      <td>33</td>\n",
       "      <td>Argentina</td>\n",
       "      <td>RW ST CF</td>\n",
       "      <td>93</td>\n",
       "      <td>\\n\\n\\n\\nFC Barcelona\\n2004 ~ 2021\\n\\n</td>\n",
       "      <td>170.18</td>\n",
       "      <td>68</td>\n",
       "      <td>429</td>\n",
       "      <td>72</td>\n",
       "      <td>...</td>\n",
       "      <td>67.500</td>\n",
       "      <td>€560K</td>\n",
       "      <td>70</td>\n",
       "      <td>96</td>\n",
       "      <td>RW</td>\n",
       "      <td>MID</td>\n",
       "      <td>FC Barcelona</td>\n",
       "      <td>152.40</td>\n",
       "      <td>17.78</td>\n",
       "      <td>560.0</td>\n",
       "    </tr>\n",
       "    <tr>\n",
       "      <th>1</th>\n",
       "      <td>Cristiano Ronaldo</td>\n",
       "      <td>35</td>\n",
       "      <td>Portugal</td>\n",
       "      <td>ST LW</td>\n",
       "      <td>92</td>\n",
       "      <td>\\n\\n\\n\\nJuventus\\n2018 ~ 2022\\n\\n</td>\n",
       "      <td>187.96</td>\n",
       "      <td>95</td>\n",
       "      <td>437</td>\n",
       "      <td>84</td>\n",
       "      <td>...</td>\n",
       "      <td>46.000</td>\n",
       "      <td>€220K</td>\n",
       "      <td>90</td>\n",
       "      <td>92</td>\n",
       "      <td>ST</td>\n",
       "      <td>FWD</td>\n",
       "      <td>Juventus</td>\n",
       "      <td>182.88</td>\n",
       "      <td>5.08</td>\n",
       "      <td>220.0</td>\n",
       "    </tr>\n",
       "    <tr>\n",
       "      <th>2</th>\n",
       "      <td>J. Oblak</td>\n",
       "      <td>27</td>\n",
       "      <td>Slovenia</td>\n",
       "      <td>GK</td>\n",
       "      <td>91</td>\n",
       "      <td>\\n\\n\\n\\nAtlético Madrid\\n2014 ~ 2023\\n\\n</td>\n",
       "      <td>187.96</td>\n",
       "      <td>78</td>\n",
       "      <td>95</td>\n",
       "      <td>41</td>\n",
       "      <td>...</td>\n",
       "      <td>75.000</td>\n",
       "      <td>€125K</td>\n",
       "      <td>15</td>\n",
       "      <td>30</td>\n",
       "      <td>GK</td>\n",
       "      <td>GK</td>\n",
       "      <td>Atlético Madrid</td>\n",
       "      <td>182.88</td>\n",
       "      <td>5.08</td>\n",
       "      <td>125.0</td>\n",
       "    </tr>\n",
       "    <tr>\n",
       "      <th>3</th>\n",
       "      <td>K. De Bruyne</td>\n",
       "      <td>29</td>\n",
       "      <td>Belgium</td>\n",
       "      <td>CAM CM</td>\n",
       "      <td>91</td>\n",
       "      <td>\\n\\n\\n\\nManchester City\\n2015 ~ 2023\\n\\n</td>\n",
       "      <td>180.34</td>\n",
       "      <td>63</td>\n",
       "      <td>407</td>\n",
       "      <td>89</td>\n",
       "      <td>...</td>\n",
       "      <td>87.000</td>\n",
       "      <td>€370K</td>\n",
       "      <td>55</td>\n",
       "      <td>92</td>\n",
       "      <td>CAM</td>\n",
       "      <td>MID</td>\n",
       "      <td>Manchester City</td>\n",
       "      <td>152.40</td>\n",
       "      <td>27.94</td>\n",
       "      <td>370.0</td>\n",
       "    </tr>\n",
       "    <tr>\n",
       "      <th>4</th>\n",
       "      <td>Neymar Jr</td>\n",
       "      <td>28</td>\n",
       "      <td>Brazil</td>\n",
       "      <td>LW CAM</td>\n",
       "      <td>91</td>\n",
       "      <td>\\n\\n\\n\\nParis Saint-Germain\\n2017 ~ 2022\\n\\n</td>\n",
       "      <td>175.26</td>\n",
       "      <td>62</td>\n",
       "      <td>408</td>\n",
       "      <td>81</td>\n",
       "      <td>...</td>\n",
       "      <td>90.000</td>\n",
       "      <td>€270K</td>\n",
       "      <td>62</td>\n",
       "      <td>95</td>\n",
       "      <td>LW</td>\n",
       "      <td>MID</td>\n",
       "      <td>Paris Saint-Germain</td>\n",
       "      <td>152.40</td>\n",
       "      <td>22.86</td>\n",
       "      <td>270.0</td>\n",
       "    </tr>\n",
       "    <tr>\n",
       "      <th>...</th>\n",
       "      <td>...</td>\n",
       "      <td>...</td>\n",
       "      <td>...</td>\n",
       "      <td>...</td>\n",
       "      <td>...</td>\n",
       "      <td>...</td>\n",
       "      <td>...</td>\n",
       "      <td>...</td>\n",
       "      <td>...</td>\n",
       "      <td>...</td>\n",
       "      <td>...</td>\n",
       "      <td>...</td>\n",
       "      <td>...</td>\n",
       "      <td>...</td>\n",
       "      <td>...</td>\n",
       "      <td>...</td>\n",
       "      <td>...</td>\n",
       "      <td>...</td>\n",
       "      <td>...</td>\n",
       "      <td>...</td>\n",
       "      <td>...</td>\n",
       "    </tr>\n",
       "    <tr>\n",
       "      <th>18974</th>\n",
       "      <td>Zhang Mengxuan</td>\n",
       "      <td>21</td>\n",
       "      <td>China PR</td>\n",
       "      <td>CB</td>\n",
       "      <td>47</td>\n",
       "      <td>\\n\\n\\n\\nChongqing Dangdai Lifan FC SWM Team\\n2...</td>\n",
       "      <td>177.80</td>\n",
       "      <td>65</td>\n",
       "      <td>141</td>\n",
       "      <td>55</td>\n",
       "      <td>...</td>\n",
       "      <td>0.035</td>\n",
       "      <td>€1K</td>\n",
       "      <td>45</td>\n",
       "      <td>24</td>\n",
       "      <td>CB</td>\n",
       "      <td>DEF</td>\n",
       "      <td>Chongqing Dangdai Lifan FC SWM Team</td>\n",
       "      <td>152.40</td>\n",
       "      <td>25.40</td>\n",
       "      <td>1.0</td>\n",
       "    </tr>\n",
       "    <tr>\n",
       "      <th>18975</th>\n",
       "      <td>V. Da Silva</td>\n",
       "      <td>17</td>\n",
       "      <td>England</td>\n",
       "      <td>ST</td>\n",
       "      <td>47</td>\n",
       "      <td>\\n\\n\\n\\nOldham Athletic\\n2020 ~ 2021\\n\\n</td>\n",
       "      <td>170.18</td>\n",
       "      <td>50</td>\n",
       "      <td>202</td>\n",
       "      <td>55</td>\n",
       "      <td>...</td>\n",
       "      <td>0.060</td>\n",
       "      <td>€500</td>\n",
       "      <td>36</td>\n",
       "      <td>44</td>\n",
       "      <td>ST</td>\n",
       "      <td>FWD</td>\n",
       "      <td>Oldham Athletic</td>\n",
       "      <td>152.40</td>\n",
       "      <td>17.78</td>\n",
       "      <td>0.5</td>\n",
       "    </tr>\n",
       "    <tr>\n",
       "      <th>18976</th>\n",
       "      <td>Xia Ao</td>\n",
       "      <td>21</td>\n",
       "      <td>China PR</td>\n",
       "      <td>CB</td>\n",
       "      <td>47</td>\n",
       "      <td>\\n\\n\\n\\nWuhan Zall\\n2018 ~ 2022\\n\\n</td>\n",
       "      <td>177.80</td>\n",
       "      <td>57</td>\n",
       "      <td>145</td>\n",
       "      <td>54</td>\n",
       "      <td>...</td>\n",
       "      <td>0.040</td>\n",
       "      <td>€1K</td>\n",
       "      <td>43</td>\n",
       "      <td>42</td>\n",
       "      <td>CB</td>\n",
       "      <td>DEF</td>\n",
       "      <td>Wuhan Zall</td>\n",
       "      <td>152.40</td>\n",
       "      <td>25.40</td>\n",
       "      <td>1.0</td>\n",
       "    </tr>\n",
       "    <tr>\n",
       "      <th>18977</th>\n",
       "      <td>B. Hough</td>\n",
       "      <td>17</td>\n",
       "      <td>England</td>\n",
       "      <td>CM</td>\n",
       "      <td>47</td>\n",
       "      <td>\\n\\n\\n\\nOldham Athletic\\n2020 ~ 2021\\n\\n</td>\n",
       "      <td>175.26</td>\n",
       "      <td>58</td>\n",
       "      <td>211</td>\n",
       "      <td>43</td>\n",
       "      <td>...</td>\n",
       "      <td>0.060</td>\n",
       "      <td>€500</td>\n",
       "      <td>40</td>\n",
       "      <td>48</td>\n",
       "      <td>CM</td>\n",
       "      <td>MID</td>\n",
       "      <td>Oldham Athletic</td>\n",
       "      <td>152.40</td>\n",
       "      <td>22.86</td>\n",
       "      <td>0.5</td>\n",
       "    </tr>\n",
       "    <tr>\n",
       "      <th>18978</th>\n",
       "      <td>M. Flores</td>\n",
       "      <td>19</td>\n",
       "      <td>Bolivia</td>\n",
       "      <td>CDM</td>\n",
       "      <td>47</td>\n",
       "      <td>\\n\\n\\n\\nClub Bolívar\\n2020 ~ 2024\\n\\n</td>\n",
       "      <td>175.26</td>\n",
       "      <td>55</td>\n",
       "      <td>191</td>\n",
       "      <td>47</td>\n",
       "      <td>...</td>\n",
       "      <td>0.060</td>\n",
       "      <td>€500</td>\n",
       "      <td>48</td>\n",
       "      <td>43</td>\n",
       "      <td>CDM</td>\n",
       "      <td>MID</td>\n",
       "      <td>Club Bolívar</td>\n",
       "      <td>152.40</td>\n",
       "      <td>22.86</td>\n",
       "      <td>0.5</td>\n",
       "    </tr>\n",
       "  </tbody>\n",
       "</table>\n",
       "<p>18979 rows × 21 columns</p>\n",
       "</div>"
      ],
      "text/plain": [
       "                    Name  Age Nationality Positions  Overall  \\\n",
       "0               L. Messi   33   Argentina  RW ST CF       93   \n",
       "1      Cristiano Ronaldo   35    Portugal     ST LW       92   \n",
       "2               J. Oblak   27    Slovenia        GK       91   \n",
       "3           K. De Bruyne   29     Belgium    CAM CM       91   \n",
       "4              Neymar Jr   28      Brazil    LW CAM       91   \n",
       "...                  ...  ...         ...       ...      ...   \n",
       "18974     Zhang Mengxuan   21    China PR        CB       47   \n",
       "18975        V. Da Silva   17     England        ST       47   \n",
       "18976             Xia Ao   21    China PR        CB       47   \n",
       "18977           B. Hough   17     England        CM       47   \n",
       "18978          M. Flores   19     Bolivia       CDM       47   \n",
       "\n",
       "                                         Team & Contract  Height  Jumping  \\\n",
       "0                  \\n\\n\\n\\nFC Barcelona\\n2004 ~ 2021\\n\\n  170.18       68   \n",
       "1                      \\n\\n\\n\\nJuventus\\n2018 ~ 2022\\n\\n  187.96       95   \n",
       "2               \\n\\n\\n\\nAtlético Madrid\\n2014 ~ 2023\\n\\n  187.96       78   \n",
       "3               \\n\\n\\n\\nManchester City\\n2015 ~ 2023\\n\\n  180.34       63   \n",
       "4           \\n\\n\\n\\nParis Saint-Germain\\n2017 ~ 2022\\n\\n  175.26       62   \n",
       "...                                                  ...     ...      ...   \n",
       "18974  \\n\\n\\n\\nChongqing Dangdai Lifan FC SWM Team\\n2...  177.80       65   \n",
       "18975           \\n\\n\\n\\nOldham Athletic\\n2020 ~ 2021\\n\\n  170.18       50   \n",
       "18976                \\n\\n\\n\\nWuhan Zall\\n2018 ~ 2022\\n\\n  177.80       57   \n",
       "18977           \\n\\n\\n\\nOldham Athletic\\n2020 ~ 2021\\n\\n  175.26       58   \n",
       "18978              \\n\\n\\n\\nClub Bolívar\\n2020 ~ 2024\\n\\n  175.26       55   \n",
       "\n",
       "       Attacking  Stamina  ...  Value in M   Wage Heading Accuracy  \\\n",
       "0            429       72  ...      67.500  €560K               70   \n",
       "1            437       84  ...      46.000  €220K               90   \n",
       "2             95       41  ...      75.000  €125K               15   \n",
       "3            407       89  ...      87.000  €370K               55   \n",
       "4            408       81  ...      90.000  €270K               62   \n",
       "...          ...      ...  ...         ...    ...              ...   \n",
       "18974        141       55  ...       0.035    €1K               45   \n",
       "18975        202       55  ...       0.060   €500               36   \n",
       "18976        145       54  ...       0.040    €1K               43   \n",
       "18977        211       43  ...       0.060   €500               40   \n",
       "18978        191       47  ...       0.060   €500               48   \n",
       "\n",
       "       Ball Control  Prefered Positions Position  \\\n",
       "0                96                  RW      MID   \n",
       "1                92                  ST      FWD   \n",
       "2                30                  GK       GK   \n",
       "3                92                 CAM      MID   \n",
       "4                95                  LW      MID   \n",
       "...             ...                 ...      ...   \n",
       "18974            24                  CB      DEF   \n",
       "18975            44                  ST      FWD   \n",
       "18976            42                  CB      DEF   \n",
       "18977            48                  CM      MID   \n",
       "18978            43                 CDM      MID   \n",
       "\n",
       "                                      Club   temp1  temp2  Wage in K  \n",
       "0                             FC Barcelona  152.40  17.78      560.0  \n",
       "1                                 Juventus  182.88   5.08      220.0  \n",
       "2                          Atlético Madrid  182.88   5.08      125.0  \n",
       "3                          Manchester City  152.40  27.94      370.0  \n",
       "4                      Paris Saint-Germain  152.40  22.86      270.0  \n",
       "...                                    ...     ...    ...        ...  \n",
       "18974  Chongqing Dangdai Lifan FC SWM Team  152.40  25.40        1.0  \n",
       "18975                      Oldham Athletic  152.40  17.78        0.5  \n",
       "18976                           Wuhan Zall  152.40  25.40        1.0  \n",
       "18977                      Oldham Athletic  152.40  22.86        0.5  \n",
       "18978                         Club Bolívar  152.40  22.86        0.5  \n",
       "\n",
       "[18979 rows x 21 columns]"
      ]
     },
     "execution_count": 19,
     "metadata": {},
     "output_type": "execute_result"
    }
   ],
   "source": [
    "idf"
   ]
  },
  {
   "cell_type": "code",
   "execution_count": 20,
   "metadata": {},
   "outputs": [
    {
     "data": {
      "text/plain": [
       "Index(['Name', 'Age', 'Nationality', 'Positions', 'Overall', 'Team & Contract',\n",
       "       'Height', 'Jumping', 'Attacking', 'Stamina', 'Goalkeeping',\n",
       "       'Value in M', 'Wage', 'Heading Accuracy', 'Ball Control',\n",
       "       'Prefered Positions', 'Position', 'Club', 'temp1', 'temp2',\n",
       "       'Wage in K'],\n",
       "      dtype='object')"
      ]
     },
     "execution_count": 20,
     "metadata": {},
     "output_type": "execute_result"
    }
   ],
   "source": [
    "idf .columns"
   ]
  },
  {
   "cell_type": "markdown",
   "metadata": {},
   "source": [
    "Checkin if the dataset contain any null value or not."
   ]
  },
  {
   "cell_type": "code",
   "execution_count": 22,
   "metadata": {
    "scrolled": true
   },
   "outputs": [
    {
     "data": {
      "text/plain": [
       "Name                    0\n",
       "Age                     0\n",
       "Nationality             0\n",
       "Positions               0\n",
       "Overall                 0\n",
       "Team & Contract         0\n",
       "Height                  0\n",
       "Jumping                 0\n",
       "Attacking               0\n",
       "Stamina                 0\n",
       "Goalkeeping             0\n",
       "Value in M            249\n",
       "Wage                    0\n",
       "Heading Accuracy        0\n",
       "Ball Control            0\n",
       "Prefered Positions      0\n",
       "Position                0\n",
       "Club                    0\n",
       "temp1                   0\n",
       "temp2                   0\n",
       "Wage in K               0\n",
       "dtype: int64"
      ]
     },
     "execution_count": 22,
     "metadata": {},
     "output_type": "execute_result"
    }
   ],
   "source": [
    "idf.isna().sum()"
   ]
  },
  {
   "cell_type": "markdown",
   "metadata": {},
   "source": [
    "As we can see Value in M column contains  many null value.So we need to replace the null value by the mean."
   ]
  },
  {
   "cell_type": "code",
   "execution_count": null,
   "metadata": {},
   "outputs": [],
   "source": []
  }
 ],
 "metadata": {
  "kernelspec": {
   "display_name": "Python 3",
   "language": "python",
   "name": "python3"
  },
  "language_info": {
   "codemirror_mode": {
    "name": "ipython",
    "version": 3
   },
   "file_extension": ".py",
   "mimetype": "text/x-python",
   "name": "python",
   "nbconvert_exporter": "python",
   "pygments_lexer": "ipython3",
   "version": "3.7.4"
  }
 },
 "nbformat": 4,
 "nbformat_minor": 2
}
